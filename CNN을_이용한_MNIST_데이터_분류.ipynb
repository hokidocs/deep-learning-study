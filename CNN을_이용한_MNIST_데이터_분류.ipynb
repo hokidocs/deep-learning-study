{
  "cells": [
    {
      "cell_type": "code",
      "execution_count": null,
      "id": "a45c2411-6b88-4949-ad8e-f4adf4257f21",
      "metadata": {
        "id": "a45c2411-6b88-4949-ad8e-f4adf4257f21",
        "outputId": "7fe0a0e2-129b-49b0-be26-8083f2eaf820"
      },
      "outputs": [
        {
          "name": "stdout",
          "output_type": "stream",
          "text": [
            "Model: \"sequential_8\"\n",
            "_________________________________________________________________\n",
            " Layer (type)                Output Shape              Param #   \n",
            "=================================================================\n",
            " conv2d_13 (Conv2D)          (None, 28, 28, 32)        320       \n",
            "                                                                 \n",
            " max_pooling2d_12 (MaxPooli  (None, 14, 14, 32)        0         \n",
            " ng2D)                                                           \n",
            "                                                                 \n",
            " dropout_12 (Dropout)        (None, 14, 14, 32)        0         \n",
            "                                                                 \n",
            " conv2d_14 (Conv2D)          (None, 14, 14, 64)        18496     \n",
            "                                                                 \n",
            " max_pooling2d_13 (MaxPooli  (None, 7, 7, 64)          0         \n",
            " ng2D)                                                           \n",
            "                                                                 \n",
            " dropout_13 (Dropout)        (None, 7, 7, 64)          0         \n",
            "                                                                 \n",
            " flatten_2 (Flatten)         (None, 3136)              0         \n",
            "                                                                 \n",
            " dense_6 (Dense)             (None, 128)               401536    \n",
            "                                                                 \n",
            " dropout_14 (Dropout)        (None, 128)               0         \n",
            "                                                                 \n",
            " dense_7 (Dense)             (None, 10)                1290      \n",
            "                                                                 \n",
            "=================================================================\n",
            "Total params: 421642 (1.61 MB)\n",
            "Trainable params: 421642 (1.61 MB)\n",
            "Non-trainable params: 0 (0.00 Byte)\n",
            "_________________________________________________________________\n"
          ]
        }
      ],
      "source": [
        "# 모델 정의\n",
        "from tensorflow.keras.models import Sequential\n",
        "from tensorflow.keras.layers import Input, Conv2D, MaxPooling2D, Dense, Dropout, Flatten\n",
        "\n",
        "model = Sequential()\n",
        "model.add(Input(shape=(28, 28, 1)))\n",
        "model.add(Conv2D(32, 3, activation='ReLU', padding='same'))\n",
        "model.add(MaxPooling2D())\n",
        "model.add(Dropout(0.1))\n",
        "\n",
        "model.add(Conv2D(64, 3, activation='ReLU', padding='same'))\n",
        "model.add(MaxPooling2D())\n",
        "model.add(Dropout(0.25))\n",
        "\n",
        "model.add(Flatten())\n",
        "model.add(Dense(128, activation='ReLU'))\n",
        "model.add(Dropout(0.5))\n",
        "model.add(Dense(10, activation='softmax'))\n",
        "\n",
        "model.summary()\n",
        "\n",
        "# 이미지의 크기가 각 단계별로 어떻게 변화하는지, 각 층의 파라미터 수는 어떻게 되는지 계산할 수 있어야 한다."
      ]
    },
    {
      "cell_type": "code",
      "execution_count": null,
      "id": "b81de75c-afad-4e91-bc26-431da2fd90d8",
      "metadata": {
        "id": "b81de75c-afad-4e91-bc26-431da2fd90d8"
      },
      "outputs": [],
      "source": [
        "model.compile(loss='sparse_categorical_crossentropy',\n",
        "              optimizer='adam',\n",
        "              metrics=['accuracy'])"
      ]
    },
    {
      "cell_type": "code",
      "execution_count": null,
      "id": "b7b09eb4-123d-4560-86fe-201695bb2331",
      "metadata": {
        "id": "b7b09eb4-123d-4560-86fe-201695bb2331"
      },
      "outputs": [],
      "source": [
        "from tensorflow.keras.datasets import mnist\n",
        "(train_X, train_y), (test_X, test_y) = mnist.load_data()"
      ]
    },
    {
      "cell_type": "code",
      "execution_count": null,
      "id": "1b9dec28-6cbf-4efb-bd48-a4d05b30a16d",
      "metadata": {
        "id": "1b9dec28-6cbf-4efb-bd48-a4d05b30a16d"
      },
      "outputs": [],
      "source": [
        "train_X = train_X.reshape(-1, 28, 28, 1) / 255.0\n",
        "test_X = test_X.reshape(-1, 28, 28, 1) / 255.0\n",
        "# 첫 번째 1은 축?\n",
        "# 맨 뒤의 1은 채널 정보를 가지는 값\n",
        "# Gradient Vanishing을 방지하기 위해서 255.0으로 나눈다."
      ]
    },
    {
      "cell_type": "code",
      "execution_count": null,
      "id": "13fd98b1-449b-4660-a630-2f03deca4dc1",
      "metadata": {
        "id": "13fd98b1-449b-4660-a630-2f03deca4dc1",
        "outputId": "946c5e8f-36e7-4223-83ed-8dadeadb40a1"
      },
      "outputs": [
        {
          "name": "stdout",
          "output_type": "stream",
          "text": [
            "Epoch 1/10\n",
            "469/469 [==============================] - 19s 39ms/step - loss: 0.3156 - accuracy: 0.9017 - val_loss: 0.0613 - val_accuracy: 0.9789\n",
            "Epoch 2/10\n",
            "469/469 [==============================] - 18s 39ms/step - loss: 0.1041 - accuracy: 0.9694 - val_loss: 0.0400 - val_accuracy: 0.9864\n",
            "Epoch 3/10\n",
            "469/469 [==============================] - 19s 40ms/step - loss: 0.0780 - accuracy: 0.9770 - val_loss: 0.0319 - val_accuracy: 0.9900\n",
            "Epoch 4/10\n",
            "469/469 [==============================] - 19s 40ms/step - loss: 0.0635 - accuracy: 0.9811 - val_loss: 0.0273 - val_accuracy: 0.9900\n",
            "Epoch 5/10\n",
            "469/469 [==============================] - 19s 40ms/step - loss: 0.0585 - accuracy: 0.9826 - val_loss: 0.0261 - val_accuracy: 0.9910\n",
            "Epoch 6/10\n",
            "469/469 [==============================] - 19s 40ms/step - loss: 0.0489 - accuracy: 0.9850 - val_loss: 0.0241 - val_accuracy: 0.9914\n",
            "Epoch 7/10\n",
            "469/469 [==============================] - 19s 40ms/step - loss: 0.0465 - accuracy: 0.9857 - val_loss: 0.0258 - val_accuracy: 0.9913\n",
            "Epoch 8/10\n",
            "469/469 [==============================] - 19s 40ms/step - loss: 0.0417 - accuracy: 0.9869 - val_loss: 0.0230 - val_accuracy: 0.9918\n",
            "Epoch 9/10\n",
            "469/469 [==============================] - 19s 40ms/step - loss: 0.0396 - accuracy: 0.9878 - val_loss: 0.0228 - val_accuracy: 0.9923\n",
            "Epoch 10/10\n",
            "469/469 [==============================] - 19s 40ms/step - loss: 0.0355 - accuracy: 0.9892 - val_loss: 0.0199 - val_accuracy: 0.9929\n"
          ]
        },
        {
          "data": {
            "text/plain": [
              "<keras.src.callbacks.History at 0x290efa2ea50>"
            ]
          },
          "execution_count": 16,
          "metadata": {},
          "output_type": "execute_result"
        }
      ],
      "source": [
        "model.fit(train_X, train_y, validation_data=(test_X, test_y),\n",
        "            batch_size=128, epochs=10, verbose=1)"
      ]
    },
    {
      "cell_type": "code",
      "execution_count": null,
      "id": "cc9a3d9a-e50c-41ff-ae58-324dab1994c3",
      "metadata": {
        "id": "cc9a3d9a-e50c-41ff-ae58-324dab1994c3",
        "outputId": "65f7a4a5-b533-483e-f2e2-cefa155e1409"
      },
      "outputs": [
        {
          "name": "stdout",
          "output_type": "stream",
          "text": [
            "313/313 [==============================] - 1s 3ms/step - loss: 0.0199 - accuracy: 0.9929\n"
          ]
        }
      ],
      "source": [
        "loss, accuracy = model.evaluate(test_X, test_y)"
      ]
    },
    {
      "cell_type": "code",
      "execution_count": null,
      "id": "afa4b8a9-6840-4d83-9c6a-4085967a1d43",
      "metadata": {
        "id": "afa4b8a9-6840-4d83-9c6a-4085967a1d43",
        "outputId": "e8a19e98-c2fe-425e-b0fb-154e0f2ac3ca"
      },
      "outputs": [
        {
          "name": "stdout",
          "output_type": "stream",
          "text": [
            "0.019885972142219543 0.992900013923645\n"
          ]
        }
      ],
      "source": [
        "print(loss, accuracy)"
      ]
    },
    {
      "cell_type": "code",
      "execution_count": null,
      "id": "48131da7-5f51-4aa3-8e21-80d29174d48b",
      "metadata": {
        "id": "48131da7-5f51-4aa3-8e21-80d29174d48b",
        "outputId": "3e4ea498-8e34-4283-d00b-2806ba75f64b"
      },
      "outputs": [
        {
          "name": "stdout",
          "output_type": "stream",
          "text": [
            "313/313 [==============================] - 1s 3ms/step\n"
          ]
        }
      ],
      "source": [
        "import numpy as np\n",
        "pred = model.predict(test_X)\n",
        "pred = np.argmax(pred, axis=1)"
      ]
    },
    {
      "cell_type": "code",
      "execution_count": null,
      "id": "357ba0da-0f13-406e-aaa6-3aa9def016bd",
      "metadata": {
        "id": "357ba0da-0f13-406e-aaa6-3aa9def016bd",
        "outputId": "57023486-5ef3-4f57-e4fb-15ba5189d802"
      },
      "outputs": [
        {
          "data": {
            "text/html": [
              "<div>\n",
              "<style scoped>\n",
              "    .dataframe tbody tr th:only-of-type {\n",
              "        vertical-align: middle;\n",
              "    }\n",
              "\n",
              "    .dataframe tbody tr th {\n",
              "        vertical-align: top;\n",
              "    }\n",
              "\n",
              "    .dataframe thead th {\n",
              "        text-align: right;\n",
              "    }\n",
              "</style>\n",
              "<table border=\"1\" class=\"dataframe\">\n",
              "  <thead>\n",
              "    <tr style=\"text-align: right;\">\n",
              "      <th>col_0</th>\n",
              "      <th>0</th>\n",
              "      <th>1</th>\n",
              "      <th>2</th>\n",
              "      <th>3</th>\n",
              "      <th>4</th>\n",
              "      <th>5</th>\n",
              "      <th>6</th>\n",
              "      <th>7</th>\n",
              "      <th>8</th>\n",
              "      <th>9</th>\n",
              "    </tr>\n",
              "    <tr>\n",
              "      <th>row_0</th>\n",
              "      <th></th>\n",
              "      <th></th>\n",
              "      <th></th>\n",
              "      <th></th>\n",
              "      <th></th>\n",
              "      <th></th>\n",
              "      <th></th>\n",
              "      <th></th>\n",
              "      <th></th>\n",
              "      <th></th>\n",
              "    </tr>\n",
              "  </thead>\n",
              "  <tbody>\n",
              "    <tr>\n",
              "      <th>0</th>\n",
              "      <td>979</td>\n",
              "      <td>0</td>\n",
              "      <td>0</td>\n",
              "      <td>0</td>\n",
              "      <td>0</td>\n",
              "      <td>0</td>\n",
              "      <td>0</td>\n",
              "      <td>1</td>\n",
              "      <td>0</td>\n",
              "      <td>0</td>\n",
              "    </tr>\n",
              "    <tr>\n",
              "      <th>1</th>\n",
              "      <td>0</td>\n",
              "      <td>1132</td>\n",
              "      <td>1</td>\n",
              "      <td>0</td>\n",
              "      <td>0</td>\n",
              "      <td>0</td>\n",
              "      <td>2</td>\n",
              "      <td>0</td>\n",
              "      <td>0</td>\n",
              "      <td>0</td>\n",
              "    </tr>\n",
              "    <tr>\n",
              "      <th>2</th>\n",
              "      <td>2</td>\n",
              "      <td>0</td>\n",
              "      <td>1024</td>\n",
              "      <td>0</td>\n",
              "      <td>1</td>\n",
              "      <td>0</td>\n",
              "      <td>0</td>\n",
              "      <td>4</td>\n",
              "      <td>1</td>\n",
              "      <td>0</td>\n",
              "    </tr>\n",
              "    <tr>\n",
              "      <th>3</th>\n",
              "      <td>0</td>\n",
              "      <td>0</td>\n",
              "      <td>1</td>\n",
              "      <td>1003</td>\n",
              "      <td>0</td>\n",
              "      <td>5</td>\n",
              "      <td>0</td>\n",
              "      <td>0</td>\n",
              "      <td>1</td>\n",
              "      <td>0</td>\n",
              "    </tr>\n",
              "    <tr>\n",
              "      <th>4</th>\n",
              "      <td>0</td>\n",
              "      <td>0</td>\n",
              "      <td>0</td>\n",
              "      <td>0</td>\n",
              "      <td>975</td>\n",
              "      <td>0</td>\n",
              "      <td>0</td>\n",
              "      <td>0</td>\n",
              "      <td>2</td>\n",
              "      <td>5</td>\n",
              "    </tr>\n",
              "    <tr>\n",
              "      <th>5</th>\n",
              "      <td>2</td>\n",
              "      <td>0</td>\n",
              "      <td>0</td>\n",
              "      <td>2</td>\n",
              "      <td>0</td>\n",
              "      <td>886</td>\n",
              "      <td>1</td>\n",
              "      <td>1</td>\n",
              "      <td>0</td>\n",
              "      <td>0</td>\n",
              "    </tr>\n",
              "    <tr>\n",
              "      <th>6</th>\n",
              "      <td>4</td>\n",
              "      <td>1</td>\n",
              "      <td>0</td>\n",
              "      <td>0</td>\n",
              "      <td>1</td>\n",
              "      <td>5</td>\n",
              "      <td>946</td>\n",
              "      <td>0</td>\n",
              "      <td>1</td>\n",
              "      <td>0</td>\n",
              "    </tr>\n",
              "    <tr>\n",
              "      <th>7</th>\n",
              "      <td>0</td>\n",
              "      <td>2</td>\n",
              "      <td>3</td>\n",
              "      <td>0</td>\n",
              "      <td>0</td>\n",
              "      <td>0</td>\n",
              "      <td>0</td>\n",
              "      <td>1021</td>\n",
              "      <td>1</td>\n",
              "      <td>1</td>\n",
              "    </tr>\n",
              "    <tr>\n",
              "      <th>8</th>\n",
              "      <td>2</td>\n",
              "      <td>0</td>\n",
              "      <td>1</td>\n",
              "      <td>0</td>\n",
              "      <td>0</td>\n",
              "      <td>2</td>\n",
              "      <td>0</td>\n",
              "      <td>1</td>\n",
              "      <td>967</td>\n",
              "      <td>1</td>\n",
              "    </tr>\n",
              "    <tr>\n",
              "      <th>9</th>\n",
              "      <td>0</td>\n",
              "      <td>2</td>\n",
              "      <td>0</td>\n",
              "      <td>0</td>\n",
              "      <td>3</td>\n",
              "      <td>3</td>\n",
              "      <td>0</td>\n",
              "      <td>2</td>\n",
              "      <td>3</td>\n",
              "      <td>996</td>\n",
              "    </tr>\n",
              "  </tbody>\n",
              "</table>\n",
              "</div>"
            ],
            "text/plain": [
              "col_0    0     1     2     3    4    5    6     7    8    9\n",
              "row_0                                                      \n",
              "0      979     0     0     0    0    0    0     1    0    0\n",
              "1        0  1132     1     0    0    0    2     0    0    0\n",
              "2        2     0  1024     0    1    0    0     4    1    0\n",
              "3        0     0     1  1003    0    5    0     0    1    0\n",
              "4        0     0     0     0  975    0    0     0    2    5\n",
              "5        2     0     0     2    0  886    1     1    0    0\n",
              "6        4     1     0     0    1    5  946     0    1    0\n",
              "7        0     2     3     0    0    0    0  1021    1    1\n",
              "8        2     0     1     0    0    2    0     1  967    1\n",
              "9        0     2     0     0    3    3    0     2    3  996"
            ]
          },
          "execution_count": 22,
          "metadata": {},
          "output_type": "execute_result"
        }
      ],
      "source": [
        "import pandas as pd\n",
        "pd.crosstab(test_y, pred)"
      ]
    }
  ],
  "metadata": {
    "kernelspec": {
      "display_name": "tf2.14",
      "language": "python",
      "name": "tf2.14"
    },
    "language_info": {
      "codemirror_mode": {
        "name": "ipython",
        "version": 3
      },
      "file_extension": ".py",
      "mimetype": "text/x-python",
      "name": "python",
      "nbconvert_exporter": "python",
      "pygments_lexer": "ipython3",
      "version": "3.11.9"
    },
    "colab": {
      "provenance": []
    }
  },
  "nbformat": 4,
  "nbformat_minor": 5
}