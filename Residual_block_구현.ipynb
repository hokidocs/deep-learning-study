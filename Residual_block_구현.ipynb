{
  "cells": [
    {
      "cell_type": "markdown",
      "id": "77a8ffa5-f07b-4d88-a0dc-751faed55b70",
      "metadata": {
        "id": "77a8ffa5-f07b-4d88-a0dc-751faed55b70"
      },
      "source": [
        "### **Residual block 구현**"
      ]
    },
    {
      "cell_type": "code",
      "execution_count": null,
      "id": "bda23c4d-5484-4c52-b91f-8222838891dc",
      "metadata": {
        "id": "bda23c4d-5484-4c52-b91f-8222838891dc",
        "outputId": "f8bc7236-9dfe-4c27-fe41-9c4c7974e268"
      },
      "outputs": [
        {
          "name": "stdout",
          "output_type": "stream",
          "text": [
            "Model: \"model_1\"\n",
            "__________________________________________________________________________________________________\n",
            " Layer (type)                Output Shape                 Param #   Connected to                  \n",
            "==================================================================================================\n",
            " input_5 (InputLayer)        [(None, 28, 28, 3)]          0         []                            \n",
            "                                                                                                  \n",
            " conv2d_8 (Conv2D)           (None, 28, 28, 128)          3584      ['input_5[0][0]']             \n",
            "                                                                                                  \n",
            " conv2d_9 (Conv2D)           (None, 28, 28, 64)           73792     ['conv2d_8[0][0]']            \n",
            "                                                                                                  \n",
            " conv2d_10 (Conv2D)          (None, 28, 28, 128)          73856     ['conv2d_9[0][0]']            \n",
            "                                                                                                  \n",
            " add_1 (Add)                 (None, 28, 28, 128)          0         ['conv2d_10[0][0]',           \n",
            "                                                                     'conv2d_8[0][0]']            \n",
            "                                                                                                  \n",
            " activation_1 (Activation)   (None, 28, 28, 128)          0         ['add_1[0][0]']               \n",
            "                                                                                                  \n",
            "==================================================================================================\n",
            "Total params: 151232 (590.75 KB)\n",
            "Trainable params: 151232 (590.75 KB)\n",
            "Non-trainable params: 0 (0.00 Byte)\n",
            "__________________________________________________________________________________________________\n"
          ]
        }
      ],
      "source": [
        "from tensorflow.keras.models import Model\n",
        "from tensorflow.keras.layers import Input, Conv2D, Activation, add\n",
        "\n",
        "model_input = Input(shape=(28, 28, 3))\n",
        "\n",
        "x = Conv2D(128, 3, padding='same', activation='relu')(model_input)\n",
        "conv = Conv2D(64, 3, padding='same', activation='relu')(x)\n",
        "conv = Conv2D(128, 3, padding='same')(conv)\n",
        "\n",
        "y = add([conv, x])\n",
        "y = Activation('relu')(y)\n",
        "\n",
        "model = Model(inputs=model_input, outputs=y)\n",
        "model.summary()"
      ]
    }
  ],
  "metadata": {
    "kernelspec": {
      "display_name": "tf2.14",
      "language": "python",
      "name": "tf2.14"
    },
    "language_info": {
      "codemirror_mode": {
        "name": "ipython",
        "version": 3
      },
      "file_extension": ".py",
      "mimetype": "text/x-python",
      "name": "python",
      "nbconvert_exporter": "python",
      "pygments_lexer": "ipython3",
      "version": "3.11.9"
    },
    "colab": {
      "provenance": []
    }
  },
  "nbformat": 4,
  "nbformat_minor": 5
}