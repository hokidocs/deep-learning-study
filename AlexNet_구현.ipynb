{
  "cells": [
    {
      "cell_type": "code",
      "execution_count": null,
      "id": "c8d54132-cd70-44c4-8314-ca2187d7f8d8",
      "metadata": {
        "id": "c8d54132-cd70-44c4-8314-ca2187d7f8d8"
      },
      "outputs": [],
      "source": [
        "from tensorflow.keras.models import Sequential\n",
        "from tensorflow.keras.layers import Dense, Flatten, Conv2D, MaxPooling2D, Dropout, BatchNormalization\n",
        "\n",
        "class AlexNet :\n",
        "\n",
        "    @staticmethod\n",
        "    def build(input_shape=(224, 224, 3), activation='ReLU', class_num=1000) :\n",
        "        model = Sequential()\n",
        "\n",
        "        model.add(Conv2D(96, (11, 11), strides=(4, 4), input_shape=input_shape, activation=activation, padding='same'))\n",
        "        model.add(MaxPooling2D(pool_size=(3, 3), strides=2))\n",
        "        model.add(BatchNormalization())\n",
        "\n",
        "        model.add(Conv2D(256, (5, 5), activation=activation, padding='same'))\n",
        "        model.add(MaxPooling2D(pool_size=(3, 3), strides=2))\n",
        "        model.add(BatchNormalization())\n",
        "\n",
        "        model.add(Conv2D(384, (3, 3), activation=activation, padding='same'))\n",
        "        model.add(Conv2D(384, (3, 3), activation=activation, padding='same'))\n",
        "        model.add(Conv2D(256, (3, 3), activation=activation, padding='same'))\n",
        "\n",
        "        model.add(Flatten())\n",
        "        model.add(Dense(4096, activation=activation))\n",
        "        model.add(Dropout(0.4))\n",
        "        model.add(Dense(4096, activation=activation))\n",
        "        model.add(Dropout(0.4))\n",
        "        model.add(Dense(class_num, activation='softmax'))\n",
        "\n",
        "        return model"
      ]
    },
    {
      "cell_type": "code",
      "execution_count": null,
      "id": "e380cdf1-c7a8-40fc-a876-255951da4bd5",
      "metadata": {
        "id": "e380cdf1-c7a8-40fc-a876-255951da4bd5",
        "outputId": "2c2308da-a1d6-4c15-a35f-0231800f173e"
      },
      "outputs": [
        {
          "name": "stdout",
          "output_type": "stream",
          "text": [
            "Model: \"sequential_4\"\n",
            "_________________________________________________________________\n",
            " Layer (type)                Output Shape              Param #   \n",
            "=================================================================\n",
            " conv2d_20 (Conv2D)          (None, 8, 8, 96)          34944     \n",
            "                                                                 \n",
            " max_pooling2d_8 (MaxPoolin  (None, 3, 3, 96)          0         \n",
            " g2D)                                                            \n",
            "                                                                 \n",
            " batch_normalization_8 (Bat  (None, 3, 3, 96)          384       \n",
            " chNormalization)                                                \n",
            "                                                                 \n",
            " conv2d_21 (Conv2D)          (None, 3, 3, 256)         614656    \n",
            "                                                                 \n",
            " max_pooling2d_9 (MaxPoolin  (None, 1, 1, 256)         0         \n",
            " g2D)                                                            \n",
            "                                                                 \n",
            " batch_normalization_9 (Bat  (None, 1, 1, 256)         1024      \n",
            " chNormalization)                                                \n",
            "                                                                 \n",
            " conv2d_22 (Conv2D)          (None, 1, 1, 384)         885120    \n",
            "                                                                 \n",
            " conv2d_23 (Conv2D)          (None, 1, 1, 384)         1327488   \n",
            "                                                                 \n",
            " conv2d_24 (Conv2D)          (None, 1, 1, 256)         884992    \n",
            "                                                                 \n",
            " flatten_4 (Flatten)         (None, 256)               0         \n",
            "                                                                 \n",
            " dense_12 (Dense)            (None, 4096)              1052672   \n",
            "                                                                 \n",
            " dropout_8 (Dropout)         (None, 4096)              0         \n",
            "                                                                 \n",
            " dense_13 (Dense)            (None, 4096)              16781312  \n",
            "                                                                 \n",
            " dropout_9 (Dropout)         (None, 4096)              0         \n",
            "                                                                 \n",
            " dense_14 (Dense)            (None, 10)                40970     \n",
            "                                                                 \n",
            "=================================================================\n",
            "Total params: 21623562 (82.49 MB)\n",
            "Trainable params: 21622858 (82.48 MB)\n",
            "Non-trainable params: 704 (2.75 KB)\n",
            "_________________________________________________________________\n"
          ]
        }
      ],
      "source": [
        "model = AlexNet.build(input_shape=(32, 32, 3), class_num=10)\n",
        "model.summary()"
      ]
    },
    {
      "cell_type": "code",
      "execution_count": null,
      "id": "94286bd1-b73c-455f-92f2-c05583f7908f",
      "metadata": {
        "id": "94286bd1-b73c-455f-92f2-c05583f7908f"
      },
      "outputs": [],
      "source": [
        "model.compile(loss='sparse_categorical_crossentropy', optimizer='adam', metrics=['accuracy'])"
      ]
    },
    {
      "cell_type": "code",
      "execution_count": null,
      "id": "5d0e046c-154c-45d0-bb56-43fe56881b8c",
      "metadata": {
        "id": "5d0e046c-154c-45d0-bb56-43fe56881b8c",
        "outputId": "d49c6d48-ee0c-4aee-cf8b-b5dd8251a75b"
      },
      "outputs": [
        {
          "name": "stdout",
          "output_type": "stream",
          "text": [
            "Downloading data from https://www.cs.toronto.edu/~kriz/cifar-10-python.tar.gz\n",
            "170498071/170498071 [==============================] - 33s 0us/step\n"
          ]
        }
      ],
      "source": [
        "from tensorflow.keras.datasets import cifar10\n",
        "(train_X, train_y), (test_X, test_y) = cifar10.load_data()"
      ]
    },
    {
      "cell_type": "code",
      "execution_count": null,
      "id": "2f9b971f-be32-478d-987f-57ec17c054cc",
      "metadata": {
        "id": "2f9b971f-be32-478d-987f-57ec17c054cc",
        "outputId": "87c4fe21-775a-46a8-be25-2b5c45154914"
      },
      "outputs": [
        {
          "name": "stdout",
          "output_type": "stream",
          "text": [
            "Epoch 1/20\n",
            "391/391 [==============================] - 205s 520ms/step - loss: 1.6495 - accuracy: 0.3864 - val_loss: 2.8017 - val_accuracy: 0.2753\n",
            "Epoch 2/20\n",
            "391/391 [==============================] - 203s 520ms/step - loss: 1.3405 - accuracy: 0.5207 - val_loss: 1.5818 - val_accuracy: 0.4582\n",
            "Epoch 3/20\n",
            "391/391 [==============================] - 204s 523ms/step - loss: 1.1908 - accuracy: 0.5804 - val_loss: 1.3205 - val_accuracy: 0.5422\n",
            "Epoch 4/20\n",
            "391/391 [==============================] - 202s 516ms/step - loss: 1.0766 - accuracy: 0.6250 - val_loss: 1.2383 - val_accuracy: 0.5726\n",
            "Epoch 5/20\n",
            "391/391 [==============================] - 201s 514ms/step - loss: 0.9694 - accuracy: 0.6647 - val_loss: 1.4344 - val_accuracy: 0.5416\n",
            "Epoch 6/20\n",
            "391/391 [==============================] - 202s 516ms/step - loss: 0.8682 - accuracy: 0.7027 - val_loss: 1.4442 - val_accuracy: 0.5443\n",
            "Epoch 7/20\n",
            "391/391 [==============================] - 201s 514ms/step - loss: 0.7845 - accuracy: 0.7319 - val_loss: 1.4719 - val_accuracy: 0.5429\n",
            "Epoch 8/20\n",
            "391/391 [==============================] - 199s 509ms/step - loss: 0.7024 - accuracy: 0.7606 - val_loss: 1.2827 - val_accuracy: 0.6214\n",
            "Epoch 9/20\n",
            "391/391 [==============================] - 201s 514ms/step - loss: 0.6313 - accuracy: 0.7855 - val_loss: 1.2663 - val_accuracy: 0.6091\n",
            "Epoch 10/20\n",
            "391/391 [==============================] - 218s 557ms/step - loss: 0.5643 - accuracy: 0.8091 - val_loss: 1.3603 - val_accuracy: 0.6054\n",
            "Epoch 11/20\n",
            "391/391 [==============================] - 215s 548ms/step - loss: 0.5116 - accuracy: 0.8278 - val_loss: 1.4061 - val_accuracy: 0.5936\n",
            "Epoch 12/20\n",
            "391/391 [==============================] - 206s 527ms/step - loss: 0.4558 - accuracy: 0.8472 - val_loss: 1.3274 - val_accuracy: 0.6360\n",
            "Epoch 13/20\n",
            "391/391 [==============================] - 209s 533ms/step - loss: 0.4099 - accuracy: 0.8628 - val_loss: 1.4049 - val_accuracy: 0.6216\n",
            "Epoch 14/20\n",
            "391/391 [==============================] - 206s 526ms/step - loss: 0.3698 - accuracy: 0.8767 - val_loss: 1.4860 - val_accuracy: 0.6209\n",
            "Epoch 15/20\n",
            "391/391 [==============================] - 203s 520ms/step - loss: 0.3422 - accuracy: 0.8867 - val_loss: 1.5189 - val_accuracy: 0.6134\n",
            "Epoch 16/20\n",
            "391/391 [==============================] - 201s 514ms/step - loss: 0.3114 - accuracy: 0.8975 - val_loss: 1.5961 - val_accuracy: 0.6233\n",
            "Epoch 17/20\n",
            "391/391 [==============================] - 212s 542ms/step - loss: 0.2896 - accuracy: 0.9051 - val_loss: 1.6989 - val_accuracy: 0.6190\n",
            "Epoch 18/20\n",
            "391/391 [==============================] - 215s 549ms/step - loss: 0.2649 - accuracy: 0.9136 - val_loss: 1.8980 - val_accuracy: 0.6316\n",
            "Epoch 19/20\n",
            "391/391 [==============================] - 206s 527ms/step - loss: 0.2435 - accuracy: 0.9210 - val_loss: 3.7658 - val_accuracy: 0.4068\n",
            "Epoch 20/20\n",
            "391/391 [==============================] - 204s 522ms/step - loss: 0.2344 - accuracy: 0.9241 - val_loss: 1.9165 - val_accuracy: 0.6158\n"
          ]
        }
      ],
      "source": [
        "history = model.fit(train_X, train_y, validation_data=(test_X, test_y), batch_size=128, epochs=20, verbose=1)"
      ]
    },
    {
      "cell_type": "code",
      "execution_count": null,
      "id": "0842136e-7144-4bc6-aa0d-7bfa9403a9d0",
      "metadata": {
        "id": "0842136e-7144-4bc6-aa0d-7bfa9403a9d0"
      },
      "outputs": [],
      "source": [
        "model.save('mnist-AlexNet.keras')"
      ]
    },
    {
      "cell_type": "code",
      "execution_count": null,
      "id": "7fc7e7c0-ad3b-46aa-8f30-6ebc225f2c02",
      "metadata": {
        "id": "7fc7e7c0-ad3b-46aa-8f30-6ebc225f2c02",
        "outputId": "2612cefd-a123-4c74-c217-278ffa08bb5b"
      },
      "outputs": [
        {
          "name": "stdout",
          "output_type": "stream",
          "text": [
            "313/313 [==============================] - 3s 9ms/step - loss: 1.9164 - accuracy: 0.6158\n",
            "Loss : 1.9164490699768066, Accuracy : 0.6158000230789185\n"
          ]
        }
      ],
      "source": [
        "loss, accuracy = model.evaluate(test_X, test_y, verbose=1)\n",
        "print(f'Loss : {loss}, Accuracy : {accuracy}')"
      ]
    }
  ],
  "metadata": {
    "kernelspec": {
      "display_name": "tf2.14",
      "language": "python",
      "name": "tf2.14"
    },
    "language_info": {
      "codemirror_mode": {
        "name": "ipython",
        "version": 3
      },
      "file_extension": ".py",
      "mimetype": "text/x-python",
      "name": "python",
      "nbconvert_exporter": "python",
      "pygments_lexer": "ipython3",
      "version": "3.11.9"
    },
    "colab": {
      "provenance": []
    }
  },
  "nbformat": 4,
  "nbformat_minor": 5
}