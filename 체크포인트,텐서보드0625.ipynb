{
  "cells": [
    {
      "cell_type": "code",
      "execution_count": null,
      "id": "1b28d4c7-b9f4-4ef2-8064-2e01d6f54851",
      "metadata": {
        "id": "1b28d4c7-b9f4-4ef2-8064-2e01d6f54851"
      },
      "outputs": [],
      "source": [
        "# MNIST 데이터를 학습하기 위한 모델을 정의하세요\n",
        "# 은닉층은 2개, 각 층의 뉴런의 개수는 300개, 200개로 하세요\n",
        "# 은닉층의 활성화 함수는 relu를 사용하세요\n",
        "\n",
        "from tensorflow.keras.models import Sequential\n",
        "from tensorflow.keras.layers import Flatten, Dense, Dropout"
      ]
    },
    {
      "cell_type": "code",
      "execution_count": null,
      "id": "d42b6982-d72f-49b8-a3b9-807efa97cc64",
      "metadata": {
        "id": "d42b6982-d72f-49b8-a3b9-807efa97cc64",
        "outputId": "b5a4af67-e599-44b5-abca-f47e3f7698c3"
      },
      "outputs": [
        {
          "name": "stdout",
          "output_type": "stream",
          "text": [
            "Model: \"sequential\"\n",
            "_________________________________________________________________\n",
            " Layer (type)                Output Shape              Param #   \n",
            "=================================================================\n",
            " flatten (Flatten)           (None, 784)               0         \n",
            "                                                                 \n",
            " dense (Dense)               (None, 300)               235500    \n",
            "                                                                 \n",
            " dense_1 (Dense)             (None, 200)               60200     \n",
            "                                                                 \n",
            " dense_2 (Dense)             (None, 10)                2010      \n",
            "                                                                 \n",
            "=================================================================\n",
            "Total params: 297710 (1.14 MB)\n",
            "Trainable params: 297710 (1.14 MB)\n",
            "Non-trainable params: 0 (0.00 Byte)\n",
            "_________________________________________________________________\n"
          ]
        }
      ],
      "source": [
        "model = Sequential([\n",
        "    Flatten(input_shape = (28,28))\n",
        "    , Dense(300, activation ='relu')\n",
        "    , Dense(200, activation ='relu')\n",
        "    , Dense(10, activation ='softmax') # mnist data 0 ~ 9까지\n",
        "])\n",
        "\n",
        "model.summary()"
      ]
    },
    {
      "cell_type": "code",
      "execution_count": null,
      "id": "b5bd3972-b596-4bdb-90cd-b1bfe4c71ef2",
      "metadata": {
        "id": "b5bd3972-b596-4bdb-90cd-b1bfe4c71ef2"
      },
      "outputs": [],
      "source": [
        "# 훈련을 정의하세요\n",
        "# 손실함수는 크로스엔트로피, 옵티마이저는 adam을 사용하세요\n",
        "model.compile(loss='sparse_categorical_crossentropy', optimizer = 'adam', metrics = ['accuracy'])"
      ]
    },
    {
      "cell_type": "code",
      "execution_count": null,
      "id": "c7f6e1a3-2982-4142-8481-083db02d9cd1",
      "metadata": {
        "id": "c7f6e1a3-2982-4142-8481-083db02d9cd1"
      },
      "outputs": [],
      "source": [
        "from tensorflow.keras.datasets import mnist\n",
        "(train_X, train_y), (test_X, test_y) = mnist.load_data()"
      ]
    },
    {
      "cell_type": "code",
      "execution_count": null,
      "id": "3394e8c8-6ece-4fda-81be-13326736088d",
      "metadata": {
        "id": "3394e8c8-6ece-4fda-81be-13326736088d",
        "outputId": "c2b44591-76da-40f6-900a-ace41e7073f4"
      },
      "outputs": [
        {
          "name": "stdout",
          "output_type": "stream",
          "text": [
            "(60000, 28, 28) (60000,) (10000, 28, 28) (10000,)\n"
          ]
        }
      ],
      "source": [
        "# MNIST 데이터를 불러와 0 ~ 1 사이로 표준화 하세요(y값은 표준화하면 안 됨)\n",
        "train_X = train_X / 255 # -> loss 를 0 ~ 1로 표준화 시키기 위해서\n",
        "test_X = test_X /255\n",
        "print(train_X.shape, train_y.shape, test_X.shape, test_y.shape)"
      ]
    },
    {
      "cell_type": "markdown",
      "id": "28c03007-586c-4bc7-94ab-88b08953fe19",
      "metadata": {
        "id": "28c03007-586c-4bc7-94ab-88b08953fe19"
      },
      "source": [
        "# 체크포인트"
      ]
    },
    {
      "cell_type": "code",
      "execution_count": null,
      "id": "4b29f0f5-637e-457e-a220-e1e8e66a099c",
      "metadata": {
        "id": "4b29f0f5-637e-457e-a220-e1e8e66a099c"
      },
      "outputs": [],
      "source": [
        "# 체크포인트\n",
        "from tensorflow.keras.callbacks import ModelCheckpoint\n",
        "\n",
        "# 02d : 2자리 정수\n",
        "checkpiont = ModelCheckpoint('mnist_model_{epoch:02d}_{val_accuracy:.4f}.h5',\n",
        "                             verbose = 1,\n",
        "                             save_best_only = True)"
      ]
    },
    {
      "cell_type": "markdown",
      "id": "4aba6631-9ff0-44c0-a998-e62ce2610c09",
      "metadata": {
        "id": "4aba6631-9ff0-44c0-a998-e62ce2610c09"
      },
      "source": [
        "## early_stopping"
      ]
    },
    {
      "cell_type": "code",
      "execution_count": null,
      "id": "ced42508-0bc4-4939-868d-802e69b1a417",
      "metadata": {
        "id": "ced42508-0bc4-4939-868d-802e69b1a417"
      },
      "outputs": [],
      "source": [
        "from tensorflow.keras.callbacks import EarlyStopping\n",
        "early_stopping = EarlyStopping(monitor = 'val_accuracy', patience = 3)"
      ]
    },
    {
      "cell_type": "code",
      "execution_count": null,
      "id": "10347b8c-7583-42dd-83eb-e99e09253b28",
      "metadata": {
        "scrolled": true,
        "id": "10347b8c-7583-42dd-83eb-e99e09253b28",
        "outputId": "4ca00f75-b74a-48a3-b369-e054d48dc3eb"
      },
      "outputs": [
        {
          "name": "stdout",
          "output_type": "stream",
          "text": [
            "Epoch 1/1000\n",
            "599/600 [============================>.] - ETA: 0s - loss: 0.2406 - accuracy: 0.9289\n",
            "Epoch 1: val_loss improved from inf to 0.12180, saving model to mnist_model_01_0.9621.h5\n",
            "600/600 [==============================] - 2s 3ms/step - loss: 0.2404 - accuracy: 0.9290 - val_loss: 0.1218 - val_accuracy: 0.9621\n",
            "Epoch 2/1000\n",
            " 39/600 [>.............................] - ETA: 1s - loss: 0.0895 - accuracy: 0.9751"
          ]
        },
        {
          "name": "stderr",
          "output_type": "stream",
          "text": [
            "C:\\Users\\KOSA1\\anaconda3\\envs\\tf2.14\\Lib\\site-packages\\keras\\src\\engine\\training.py:3079: UserWarning: You are saving your model as an HDF5 file via `model.save()`. This file format is considered legacy. We recommend using instead the native Keras format, e.g. `model.save('my_model.keras')`.\n",
            "  saving_api.save_model(\n"
          ]
        },
        {
          "name": "stdout",
          "output_type": "stream",
          "text": [
            "590/600 [============================>.] - ETA: 0s - loss: 0.0874 - accuracy: 0.9739\n",
            "Epoch 2: val_loss improved from 0.12180 to 0.08186, saving model to mnist_model_02_0.9740.h5\n",
            "600/600 [==============================] - 2s 3ms/step - loss: 0.0875 - accuracy: 0.9740 - val_loss: 0.0819 - val_accuracy: 0.9740\n",
            "Epoch 3/1000\n",
            "586/600 [============================>.] - ETA: 0s - loss: 0.0581 - accuracy: 0.9824\n",
            "Epoch 3: val_loss improved from 0.08186 to 0.07332, saving model to mnist_model_03_0.9756.h5\n",
            "600/600 [==============================] - 2s 3ms/step - loss: 0.0581 - accuracy: 0.9824 - val_loss: 0.0733 - val_accuracy: 0.9756\n",
            "Epoch 4/1000\n",
            "583/600 [============================>.] - ETA: 0s - loss: 0.0413 - accuracy: 0.9867\n",
            "Epoch 4: val_loss did not improve from 0.07332\n",
            "600/600 [==============================] - 2s 3ms/step - loss: 0.0414 - accuracy: 0.9867 - val_loss: 0.0834 - val_accuracy: 0.9740\n",
            "Epoch 5/1000\n",
            "590/600 [============================>.] - ETA: 0s - loss: 0.0300 - accuracy: 0.9903\n",
            "Epoch 5: val_loss improved from 0.07332 to 0.07220, saving model to mnist_model_05_0.9795.h5\n",
            "600/600 [==============================] - 2s 3ms/step - loss: 0.0301 - accuracy: 0.9903 - val_loss: 0.0722 - val_accuracy: 0.9795\n",
            "Epoch 6/1000\n",
            "583/600 [============================>.] - ETA: 0s - loss: 0.0239 - accuracy: 0.9921\n",
            "Epoch 6: val_loss did not improve from 0.07220\n",
            "600/600 [==============================] - 2s 3ms/step - loss: 0.0240 - accuracy: 0.9920 - val_loss: 0.0830 - val_accuracy: 0.9754\n",
            "Epoch 7/1000\n",
            "600/600 [==============================] - ETA: 0s - loss: 0.0200 - accuracy: 0.9934\n",
            "Epoch 7: val_loss improved from 0.07220 to 0.07199, saving model to mnist_model_07_0.9809.h5\n",
            "600/600 [==============================] - 2s 3ms/step - loss: 0.0200 - accuracy: 0.9934 - val_loss: 0.0720 - val_accuracy: 0.9809\n",
            "Epoch 8/1000\n",
            "592/600 [============================>.] - ETA: 0s - loss: 0.0174 - accuracy: 0.9942\n",
            "Epoch 8: val_loss did not improve from 0.07199\n",
            "600/600 [==============================] - 2s 3ms/step - loss: 0.0176 - accuracy: 0.9941 - val_loss: 0.0769 - val_accuracy: 0.9824\n",
            "Epoch 9/1000\n",
            "584/600 [============================>.] - ETA: 0s - loss: 0.0167 - accuracy: 0.9942\n",
            "Epoch 9: val_loss did not improve from 0.07199\n",
            "600/600 [==============================] - 2s 3ms/step - loss: 0.0170 - accuracy: 0.9941 - val_loss: 0.1017 - val_accuracy: 0.9730\n",
            "Epoch 10/1000\n",
            "597/600 [============================>.] - ETA: 0s - loss: 0.0117 - accuracy: 0.9960\n",
            "Epoch 10: val_loss did not improve from 0.07199\n",
            "600/600 [==============================] - 2s 3ms/step - loss: 0.0117 - accuracy: 0.9961 - val_loss: 0.0802 - val_accuracy: 0.9799\n",
            "Epoch 11/1000\n",
            "581/600 [============================>.] - ETA: 0s - loss: 0.0140 - accuracy: 0.9952\n",
            "Epoch 11: val_loss did not improve from 0.07199\n",
            "600/600 [==============================] - 2s 3ms/step - loss: 0.0141 - accuracy: 0.9951 - val_loss: 0.1065 - val_accuracy: 0.9762\n"
          ]
        },
        {
          "data": {
            "text/plain": [
              "<keras.src.callbacks.History at 0x20266791310>"
            ]
          },
          "execution_count": 8,
          "metadata": {},
          "output_type": "execute_result"
        }
      ],
      "source": [
        "model.fit(train_X, train_y, validation_data = (test_X, test_y), epochs= 1000, batch_size = 100,\n",
        "         callbacks = [checkpiont, early_stopping])"
      ]
    },
    {
      "cell_type": "code",
      "execution_count": null,
      "id": "3f04d5ae-6f36-4a7d-94a3-1d00412817c9",
      "metadata": {
        "id": "3f04d5ae-6f36-4a7d-94a3-1d00412817c9",
        "outputId": "a9e2c92a-afdd-45a8-e38f-a7b2c163db25"
      },
      "outputs": [
        {
          "name": "stdout",
          "output_type": "stream",
          "text": [
            "313/313 [==============================] - 0s 1ms/step - loss: 0.1065 - accuracy: 0.9762\n"
          ]
        },
        {
          "data": {
            "text/plain": [
              "[0.10650598257780075, 0.9761999845504761]"
            ]
          },
          "execution_count": 9,
          "metadata": {},
          "output_type": "execute_result"
        }
      ],
      "source": [
        "model.evaluate(test_X, test_y)"
      ]
    },
    {
      "cell_type": "markdown",
      "id": "2c44a7f8-169b-41d9-ba66-9ffe834fe921",
      "metadata": {
        "id": "2c44a7f8-169b-41d9-ba66-9ffe834fe921"
      },
      "source": [
        "# 텐서보드"
      ]
    },
    {
      "cell_type": "code",
      "execution_count": null,
      "id": "444a4715-b641-4389-b561-837c117835ed",
      "metadata": {
        "id": "444a4715-b641-4389-b561-837c117835ed"
      },
      "outputs": [],
      "source": [
        "from tensorflow.keras.callbacks import TensorBoard\n",
        "tensorboard = TensorBoard(log_dir = 'tensor_log', embeddings_freq = 1,\n",
        "                         histogram_freq = 1)"
      ]
    },
    {
      "cell_type": "code",
      "execution_count": null,
      "id": "a55280a7-d3c8-416e-b55c-927d7ed3e796",
      "metadata": {
        "id": "a55280a7-d3c8-416e-b55c-927d7ed3e796",
        "outputId": "e7fe67da-02dd-4cfd-a4d8-b5c24bad445b"
      },
      "outputs": [
        {
          "name": "stdout",
          "output_type": "stream",
          "text": [
            "Epoch 1/50\n",
            "5/6 [========================>.....] - ETA: 0s - loss: 0.0194 - accuracy: 0.9934\n",
            "Epoch 1: val_loss did not improve from 0.07199\n",
            "6/6 [==============================] - 1s 90ms/step - loss: 0.0178 - accuracy: 0.9939 - val_loss: 0.0805 - val_accuracy: 0.9813\n",
            "Epoch 2/50\n",
            "5/6 [========================>.....] - ETA: 0s - loss: 0.0070 - accuracy: 0.9976\n",
            "Epoch 2: val_loss improved from 0.07199 to 0.06960, saving model to mnist_model_02_0.9839.h5\n",
            "6/6 [==============================] - 0s 68ms/step - loss: 0.0065 - accuracy: 0.9978 - val_loss: 0.0696 - val_accuracy: 0.9839\n",
            "Epoch 3/50\n",
            "5/6 [========================>.....] - ETA: 0s - loss: 0.0057 - accuracy: 0.9982\n",
            "Epoch 3: val_loss did not improve from 0.06960\n",
            "6/6 [==============================] - 0s 73ms/step - loss: 0.0057 - accuracy: 0.9982 - val_loss: 0.0696 - val_accuracy: 0.9831\n",
            "Epoch 4/50\n",
            "5/6 [========================>.....] - ETA: 0s - loss: 0.0054 - accuracy: 0.9984\n",
            "Epoch 4: val_loss improved from 0.06960 to 0.06806, saving model to mnist_model_04_0.9836.h5\n",
            "6/6 [==============================] - 0s 73ms/step - loss: 0.0053 - accuracy: 0.9984 - val_loss: 0.0681 - val_accuracy: 0.9836\n",
            "Epoch 5/50\n",
            "5/6 [========================>.....] - ETA: 0s - loss: 0.0039 - accuracy: 0.9989\n",
            "Epoch 5: val_loss improved from 0.06806 to 0.06663, saving model to mnist_model_05_0.9843.h5\n",
            "6/6 [==============================] - 0s 70ms/step - loss: 0.0039 - accuracy: 0.9989 - val_loss: 0.0666 - val_accuracy: 0.9843\n",
            "Epoch 6/50\n",
            "5/6 [========================>.....] - ETA: 0s - loss: 0.0030 - accuracy: 0.9993\n",
            "Epoch 6: val_loss improved from 0.06663 to 0.06644, saving model to mnist_model_06_0.9846.h5\n",
            "6/6 [==============================] - 0s 72ms/step - loss: 0.0029 - accuracy: 0.9993 - val_loss: 0.0664 - val_accuracy: 0.9846\n",
            "Epoch 7/50\n",
            "5/6 [========================>.....] - ETA: 0s - loss: 0.0025 - accuracy: 0.9995\n",
            "Epoch 7: val_loss did not improve from 0.06644\n",
            "6/6 [==============================] - 0s 66ms/step - loss: 0.0024 - accuracy: 0.9995 - val_loss: 0.0665 - val_accuracy: 0.9843\n",
            "Epoch 8/50\n",
            "5/6 [========================>.....] - ETA: 0s - loss: 0.0023 - accuracy: 0.9996\n",
            "Epoch 8: val_loss improved from 0.06644 to 0.06635, saving model to mnist_model_08_0.9843.h5\n",
            "6/6 [==============================] - 0s 70ms/step - loss: 0.0022 - accuracy: 0.9996 - val_loss: 0.0663 - val_accuracy: 0.9843\n",
            "Epoch 9/50\n",
            "5/6 [========================>.....] - ETA: 0s - loss: 0.0021 - accuracy: 0.9997\n",
            "Epoch 9: val_loss improved from 0.06635 to 0.06595, saving model to mnist_model_09_0.9849.h5\n",
            "6/6 [==============================] - 0s 69ms/step - loss: 0.0020 - accuracy: 0.9997 - val_loss: 0.0659 - val_accuracy: 0.9849\n",
            "Epoch 10/50\n",
            "6/6 [==============================] - ETA: 0s - loss: 0.0019 - accuracy: 0.9998\n",
            "Epoch 10: val_loss improved from 0.06595 to 0.06545, saving model to mnist_model_10_0.9850.h5\n",
            "6/6 [==============================] - 0s 72ms/step - loss: 0.0019 - accuracy: 0.9998 - val_loss: 0.0654 - val_accuracy: 0.9850\n",
            "Epoch 11/50\n",
            "5/6 [========================>.....] - ETA: 0s - loss: 0.0017 - accuracy: 0.9998\n",
            "Epoch 11: val_loss improved from 0.06545 to 0.06503, saving model to mnist_model_11_0.9852.h5\n",
            "6/6 [==============================] - 0s 68ms/step - loss: 0.0017 - accuracy: 0.9998 - val_loss: 0.0650 - val_accuracy: 0.9852\n",
            "Epoch 12/50\n",
            "6/6 [==============================] - ETA: 0s - loss: 0.0016 - accuracy: 0.9998\n",
            "Epoch 12: val_loss improved from 0.06503 to 0.06474, saving model to mnist_model_12_0.9854.h5\n",
            "6/6 [==============================] - 0s 70ms/step - loss: 0.0016 - accuracy: 0.9998 - val_loss: 0.0647 - val_accuracy: 0.9854\n",
            "Epoch 13/50\n",
            "5/6 [========================>.....] - ETA: 0s - loss: 0.0015 - accuracy: 0.9999\n",
            "Epoch 13: val_loss improved from 0.06474 to 0.06453, saving model to mnist_model_13_0.9856.h5\n",
            "6/6 [==============================] - 0s 72ms/step - loss: 0.0015 - accuracy: 0.9999 - val_loss: 0.0645 - val_accuracy: 0.9856\n",
            "Epoch 14/50\n",
            "5/6 [========================>.....] - ETA: 0s - loss: 0.0015 - accuracy: 0.9999\n",
            "Epoch 14: val_loss improved from 0.06453 to 0.06439, saving model to mnist_model_14_0.9856.h5\n",
            "6/6 [==============================] - 0s 70ms/step - loss: 0.0015 - accuracy: 0.9999 - val_loss: 0.0644 - val_accuracy: 0.9856\n",
            "Epoch 15/50\n",
            "5/6 [========================>.....] - ETA: 0s - loss: 0.0014 - accuracy: 0.9999\n",
            "Epoch 15: val_loss improved from 0.06439 to 0.06430, saving model to mnist_model_15_0.9857.h5\n",
            "6/6 [==============================] - 0s 68ms/step - loss: 0.0014 - accuracy: 0.9999 - val_loss: 0.0643 - val_accuracy: 0.9857\n",
            "Epoch 16/50\n",
            "6/6 [==============================] - ETA: 0s - loss: 0.0013 - accuracy: 0.9999\n",
            "Epoch 16: val_loss improved from 0.06430 to 0.06424, saving model to mnist_model_16_0.9857.h5\n",
            "6/6 [==============================] - 0s 69ms/step - loss: 0.0013 - accuracy: 0.9999 - val_loss: 0.0642 - val_accuracy: 0.9857\n",
            "Epoch 17/50\n",
            "5/6 [========================>.....] - ETA: 0s - loss: 0.0013 - accuracy: 0.9999\n",
            "Epoch 17: val_loss improved from 0.06424 to 0.06422, saving model to mnist_model_17_0.9857.h5\n",
            "6/6 [==============================] - 0s 71ms/step - loss: 0.0013 - accuracy: 0.9999 - val_loss: 0.0642 - val_accuracy: 0.9857\n",
            "Epoch 18/50\n",
            "5/6 [========================>.....] - ETA: 0s - loss: 0.0013 - accuracy: 0.9999\n",
            "Epoch 18: val_loss improved from 0.06422 to 0.06420, saving model to mnist_model_18_0.9857.h5\n",
            "6/6 [==============================] - 0s 67ms/step - loss: 0.0012 - accuracy: 0.9999 - val_loss: 0.0642 - val_accuracy: 0.9857\n",
            "Epoch 19/50\n",
            "6/6 [==============================] - ETA: 0s - loss: 0.0012 - accuracy: 0.9999\n",
            "Epoch 19: val_loss did not improve from 0.06420\n",
            "6/6 [==============================] - 0s 68ms/step - loss: 0.0012 - accuracy: 0.9999 - val_loss: 0.0642 - val_accuracy: 0.9858\n",
            "Epoch 20/50\n",
            "5/6 [========================>.....] - ETA: 0s - loss: 0.0012 - accuracy: 1.0000\n",
            "Epoch 20: val_loss did not improve from 0.06420\n",
            "6/6 [==============================] - 0s 67ms/step - loss: 0.0012 - accuracy: 0.9999 - val_loss: 0.0642 - val_accuracy: 0.9857\n",
            "Epoch 21/50\n",
            "5/6 [========================>.....] - ETA: 0s - loss: 0.0011 - accuracy: 1.0000\n",
            "Epoch 21: val_loss did not improve from 0.06420\n",
            "6/6 [==============================] - 0s 68ms/step - loss: 0.0011 - accuracy: 1.0000 - val_loss: 0.0642 - val_accuracy: 0.9856\n",
            "Epoch 22/50\n",
            "5/6 [========================>.....] - ETA: 0s - loss: 0.0011 - accuracy: 1.0000\n",
            "Epoch 22: val_loss did not improve from 0.06420\n",
            "6/6 [==============================] - 0s 64ms/step - loss: 0.0011 - accuracy: 1.0000 - val_loss: 0.0642 - val_accuracy: 0.9855\n",
            "Epoch 23/50\n",
            "5/6 [========================>.....] - ETA: 0s - loss: 0.0011 - accuracy: 1.0000\n",
            "Epoch 23: val_loss did not improve from 0.06420\n",
            "6/6 [==============================] - 0s 68ms/step - loss: 0.0011 - accuracy: 1.0000 - val_loss: 0.0642 - val_accuracy: 0.9855\n",
            "Epoch 24/50\n",
            "6/6 [==============================] - ETA: 0s - loss: 0.0010 - accuracy: 1.0000\n",
            "Epoch 24: val_loss did not improve from 0.06420\n",
            "6/6 [==============================] - 0s 69ms/step - loss: 0.0010 - accuracy: 1.0000 - val_loss: 0.0643 - val_accuracy: 0.9855\n",
            "Epoch 25/50\n",
            "5/6 [========================>.....] - ETA: 0s - loss: 0.0011 - accuracy: 1.0000\n",
            "Epoch 25: val_loss did not improve from 0.06420\n",
            "6/6 [==============================] - 0s 70ms/step - loss: 0.0010 - accuracy: 1.0000 - val_loss: 0.0643 - val_accuracy: 0.9855\n",
            "Epoch 26/50\n",
            "6/6 [==============================] - ETA: 0s - loss: 9.9274e-04 - accuracy: 1.0000\n",
            "Epoch 26: val_loss did not improve from 0.06420\n",
            "6/6 [==============================] - 0s 65ms/step - loss: 9.9274e-04 - accuracy: 1.0000 - val_loss: 0.0643 - val_accuracy: 0.9855\n",
            "Epoch 27/50\n",
            "6/6 [==============================] - ETA: 0s - loss: 9.6968e-04 - accuracy: 1.0000\n",
            "Epoch 27: val_loss did not improve from 0.06420\n",
            "6/6 [==============================] - 0s 69ms/step - loss: 9.6968e-04 - accuracy: 1.0000 - val_loss: 0.0643 - val_accuracy: 0.9855\n",
            "Epoch 28/50\n",
            "5/6 [========================>.....] - ETA: 0s - loss: 9.0496e-04 - accuracy: 1.0000\n",
            "Epoch 28: val_loss did not improve from 0.06420\n",
            "6/6 [==============================] - 0s 67ms/step - loss: 9.4698e-04 - accuracy: 1.0000 - val_loss: 0.0644 - val_accuracy: 0.9857\n",
            "Epoch 29/50\n",
            "5/6 [========================>.....] - ETA: 0s - loss: 9.1707e-04 - accuracy: 1.0000\n",
            "Epoch 29: val_loss did not improve from 0.06420\n",
            "6/6 [==============================] - 0s 67ms/step - loss: 9.2647e-04 - accuracy: 1.0000 - val_loss: 0.0644 - val_accuracy: 0.9857\n",
            "Epoch 30/50\n",
            "5/6 [========================>.....] - ETA: 0s - loss: 9.1014e-04 - accuracy: 1.0000\n",
            "Epoch 30: val_loss did not improve from 0.06420\n",
            "6/6 [==============================] - 0s 69ms/step - loss: 9.0630e-04 - accuracy: 1.0000 - val_loss: 0.0644 - val_accuracy: 0.9856\n",
            "Epoch 31/50\n",
            "5/6 [========================>.....] - ETA: 0s - loss: 8.6498e-04 - accuracy: 1.0000\n",
            "Epoch 31: val_loss did not improve from 0.06420\n",
            "6/6 [==============================] - 0s 68ms/step - loss: 8.8760e-04 - accuracy: 1.0000 - val_loss: 0.0645 - val_accuracy: 0.9856\n",
            "Epoch 32/50\n",
            "5/6 [========================>.....] - ETA: 0s - loss: 8.6748e-04 - accuracy: 1.0000\n",
            "Epoch 32: val_loss did not improve from 0.06420\n",
            "6/6 [==============================] - 0s 68ms/step - loss: 8.6940e-04 - accuracy: 1.0000 - val_loss: 0.0645 - val_accuracy: 0.9856\n",
            "Epoch 33/50\n",
            "5/6 [========================>.....] - ETA: 0s - loss: 8.4490e-04 - accuracy: 1.0000\n",
            "Epoch 33: val_loss did not improve from 0.06420\n",
            "6/6 [==============================] - 0s 68ms/step - loss: 8.5147e-04 - accuracy: 1.0000 - val_loss: 0.0645 - val_accuracy: 0.9856\n",
            "Epoch 34/50\n",
            "5/6 [========================>.....] - ETA: 0s - loss: 8.3249e-04 - accuracy: 1.0000\n",
            "Epoch 34: val_loss did not improve from 0.06420\n",
            "6/6 [==============================] - 0s 68ms/step - loss: 8.3519e-04 - accuracy: 1.0000 - val_loss: 0.0646 - val_accuracy: 0.9855\n",
            "Epoch 35/50\n",
            "6/6 [==============================] - ETA: 0s - loss: 8.1917e-04 - accuracy: 1.0000\n",
            "Epoch 35: val_loss did not improve from 0.06420\n",
            "6/6 [==============================] - 0s 68ms/step - loss: 8.1917e-04 - accuracy: 1.0000 - val_loss: 0.0646 - val_accuracy: 0.9855\n",
            "Epoch 36/50\n",
            "5/6 [========================>.....] - ETA: 0s - loss: 8.0278e-04 - accuracy: 1.0000\n",
            "Epoch 36: val_loss did not improve from 0.06420\n",
            "6/6 [==============================] - 0s 67ms/step - loss: 8.0376e-04 - accuracy: 1.0000 - val_loss: 0.0646 - val_accuracy: 0.9855\n",
            "Epoch 37/50\n",
            "5/6 [========================>.....] - ETA: 0s - loss: 7.8936e-04 - accuracy: 1.0000\n",
            "Epoch 37: val_loss did not improve from 0.06420\n",
            "6/6 [==============================] - 0s 65ms/step - loss: 7.8920e-04 - accuracy: 1.0000 - val_loss: 0.0647 - val_accuracy: 0.9855\n",
            "Epoch 38/50\n",
            "5/6 [========================>.....] - ETA: 0s - loss: 7.3497e-04 - accuracy: 1.0000\n",
            "Epoch 38: val_loss did not improve from 0.06420\n",
            "6/6 [==============================] - 0s 67ms/step - loss: 7.7497e-04 - accuracy: 1.0000 - val_loss: 0.0647 - val_accuracy: 0.9855\n",
            "Epoch 39/50\n",
            "5/6 [========================>.....] - ETA: 0s - loss: 7.6950e-04 - accuracy: 1.0000\n",
            "Epoch 39: val_loss did not improve from 0.06420\n",
            "6/6 [==============================] - 0s 70ms/step - loss: 7.6208e-04 - accuracy: 1.0000 - val_loss: 0.0647 - val_accuracy: 0.9855\n",
            "Epoch 40/50\n",
            "6/6 [==============================] - ETA: 0s - loss: 7.4893e-04 - accuracy: 1.0000\n",
            "Epoch 40: val_loss did not improve from 0.06420\n",
            "6/6 [==============================] - 0s 65ms/step - loss: 7.4893e-04 - accuracy: 1.0000 - val_loss: 0.0648 - val_accuracy: 0.9855\n",
            "Epoch 41/50\n",
            "5/6 [========================>.....] - ETA: 0s - loss: 7.2683e-04 - accuracy: 1.0000\n",
            "Epoch 41: val_loss did not improve from 0.06420\n",
            "6/6 [==============================] - 0s 67ms/step - loss: 7.3623e-04 - accuracy: 1.0000 - val_loss: 0.0648 - val_accuracy: 0.9855\n",
            "Epoch 42/50\n",
            "6/6 [==============================] - ETA: 0s - loss: 7.2404e-04 - accuracy: 1.0000\n",
            "Epoch 42: val_loss did not improve from 0.06420\n",
            "6/6 [==============================] - 0s 66ms/step - loss: 7.2404e-04 - accuracy: 1.0000 - val_loss: 0.0649 - val_accuracy: 0.9855\n",
            "Epoch 43/50\n",
            "6/6 [==============================] - ETA: 0s - loss: 7.1280e-04 - accuracy: 1.0000\n",
            "Epoch 43: val_loss did not improve from 0.06420\n",
            "6/6 [==============================] - 0s 68ms/step - loss: 7.1280e-04 - accuracy: 1.0000 - val_loss: 0.0649 - val_accuracy: 0.9855\n",
            "Epoch 44/50\n",
            "6/6 [==============================] - ETA: 0s - loss: 7.0168e-04 - accuracy: 1.0000\n",
            "Epoch 44: val_loss did not improve from 0.06420\n",
            "6/6 [==============================] - 0s 70ms/step - loss: 7.0168e-04 - accuracy: 1.0000 - val_loss: 0.0649 - val_accuracy: 0.9854\n",
            "Epoch 45/50\n",
            "5/6 [========================>.....] - ETA: 0s - loss: 6.8510e-04 - accuracy: 1.0000\n",
            "Epoch 45: val_loss did not improve from 0.06420\n",
            "6/6 [==============================] - 0s 64ms/step - loss: 6.9077e-04 - accuracy: 1.0000 - val_loss: 0.0650 - val_accuracy: 0.9854\n",
            "Epoch 46/50\n",
            "5/6 [========================>.....] - ETA: 0s - loss: 6.9371e-04 - accuracy: 1.0000\n",
            "Epoch 46: val_loss did not improve from 0.06420\n",
            "6/6 [==============================] - 0s 66ms/step - loss: 6.8041e-04 - accuracy: 1.0000 - val_loss: 0.0650 - val_accuracy: 0.9854\n",
            "Epoch 47/50\n",
            "5/6 [========================>.....] - ETA: 0s - loss: 6.6240e-04 - accuracy: 1.0000\n",
            "Epoch 47: val_loss did not improve from 0.06420\n",
            "6/6 [==============================] - 0s 66ms/step - loss: 6.7043e-04 - accuracy: 1.0000 - val_loss: 0.0651 - val_accuracy: 0.9855\n",
            "Epoch 48/50\n",
            "6/6 [==============================] - ETA: 0s - loss: 6.6066e-04 - accuracy: 1.0000\n",
            "Epoch 48: val_loss did not improve from 0.06420\n",
            "6/6 [==============================] - 0s 67ms/step - loss: 6.6066e-04 - accuracy: 1.0000 - val_loss: 0.0651 - val_accuracy: 0.9855\n",
            "Epoch 49/50\n",
            "5/6 [========================>.....] - ETA: 0s - loss: 6.3924e-04 - accuracy: 1.0000\n",
            "Epoch 49: val_loss did not improve from 0.06420\n",
            "6/6 [==============================] - 0s 65ms/step - loss: 6.5100e-04 - accuracy: 1.0000 - val_loss: 0.0652 - val_accuracy: 0.9855\n",
            "Epoch 50/50\n",
            "5/6 [========================>.....] - ETA: 0s - loss: 6.5799e-04 - accuracy: 1.0000\n",
            "Epoch 50: val_loss did not improve from 0.06420\n",
            "6/6 [==============================] - 0s 63ms/step - loss: 6.4205e-04 - accuracy: 1.0000 - val_loss: 0.0652 - val_accuracy: 0.9855\n"
          ]
        },
        {
          "data": {
            "text/plain": [
              "<keras.src.callbacks.History at 0x202679b22d0>"
            ]
          },
          "execution_count": 11,
          "metadata": {},
          "output_type": "execute_result"
        }
      ],
      "source": [
        "model.fit(train_X, train_y, validation_data = (test_X, test_y), epochs= 50, batch_size = 10000,\n",
        "         callbacks = [checkpiont, tensorboard])"
      ]
    }
  ],
  "metadata": {
    "kernelspec": {
      "display_name": "tf2.14",
      "language": "python",
      "name": "tf2.14"
    },
    "language_info": {
      "codemirror_mode": {
        "name": "ipython",
        "version": 3
      },
      "file_extension": ".py",
      "mimetype": "text/x-python",
      "name": "python",
      "nbconvert_exporter": "python",
      "pygments_lexer": "ipython3",
      "version": "3.11.9"
    },
    "colab": {
      "provenance": []
    }
  },
  "nbformat": 4,
  "nbformat_minor": 5
}