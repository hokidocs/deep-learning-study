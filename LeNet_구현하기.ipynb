{
  "cells": [
    {
      "cell_type": "code",
      "execution_count": null,
      "id": "a55f20ff-b8b8-439b-9fa0-915a0cdf39e5",
      "metadata": {
        "id": "a55f20ff-b8b8-439b-9fa0-915a0cdf39e5"
      },
      "outputs": [],
      "source": [
        "from tensorflow.keras.models import Sequential\n",
        "from tensorflow.keras.layers import Input, Conv2D, AveragePooling2D, Dense, Flatten\n",
        "\n",
        "class LeNet :\n",
        "\n",
        "    @staticmethod\n",
        "    def build(input_shape=(32, 32, 1), activation='sigmoid') :\n",
        "        model = Sequential()\n",
        "\n",
        "        model.add(Input(shape=input_shape))\n",
        "        model.add(Conv2D(6, (5, 5), activation=activation, kernel_initializer='random_normal'))\n",
        "        model.add(AveragePooling2D())\n",
        "        model.add(Conv2D(16, 5, activation=activation, kernel_initializer='random_normal'))\n",
        "        model.add(AveragePooling2D())\n",
        "\n",
        "        model.add(Flatten())\n",
        "        model.add(Dense(120, activation=activation))\n",
        "        model.add(Dense(84, activation=activation))\n",
        "        model.add(Dense(10, activation='softmax'))\n",
        "\n",
        "        return model"
      ]
    },
    {
      "cell_type": "code",
      "execution_count": null,
      "id": "9d7e6fe5-a4f9-429a-b0a8-3e5211bddb31",
      "metadata": {
        "id": "9d7e6fe5-a4f9-429a-b0a8-3e5211bddb31",
        "outputId": "2f55a9e3-aec1-4c23-b2c8-7de1ae9755f3"
      },
      "outputs": [
        {
          "name": "stdout",
          "output_type": "stream",
          "text": [
            "Model: \"sequential\"\n",
            "_________________________________________________________________\n",
            " Layer (type)                Output Shape              Param #   \n",
            "=================================================================\n",
            " conv2d (Conv2D)             (None, 24, 24, 6)         156       \n",
            "                                                                 \n",
            " average_pooling2d (Average  (None, 12, 12, 6)         0         \n",
            " Pooling2D)                                                      \n",
            "                                                                 \n",
            " conv2d_1 (Conv2D)           (None, 8, 8, 16)          2416      \n",
            "                                                                 \n",
            " average_pooling2d_1 (Avera  (None, 4, 4, 16)          0         \n",
            " gePooling2D)                                                    \n",
            "                                                                 \n",
            " flatten (Flatten)           (None, 256)               0         \n",
            "                                                                 \n",
            " dense (Dense)               (None, 120)               30840     \n",
            "                                                                 \n",
            " dense_1 (Dense)             (None, 84)                10164     \n",
            "                                                                 \n",
            " dense_2 (Dense)             (None, 10)                850       \n",
            "                                                                 \n",
            "=================================================================\n",
            "Total params: 44426 (173.54 KB)\n",
            "Trainable params: 44426 (173.54 KB)\n",
            "Non-trainable params: 0 (0.00 Byte)\n",
            "_________________________________________________________________\n"
          ]
        }
      ],
      "source": [
        "model = LeNet.build(input_shape=(28, 28, 1), activation='ReLU')\n",
        "model.summary()"
      ]
    },
    {
      "cell_type": "code",
      "execution_count": null,
      "id": "ad5f724d-686f-429d-9521-674d62f5c830",
      "metadata": {
        "id": "ad5f724d-686f-429d-9521-674d62f5c830"
      },
      "outputs": [],
      "source": [
        "model.compile(loss='sparse_categorical_crossentropy',\n",
        "              optimizer='sgd',\n",
        "              metrics=['accuracy'])"
      ]
    },
    {
      "cell_type": "code",
      "execution_count": null,
      "id": "637ff643-6687-420d-b887-ef68954c4997",
      "metadata": {
        "id": "637ff643-6687-420d-b887-ef68954c4997"
      },
      "outputs": [],
      "source": [
        "from tensorflow.keras.datasets import mnist\n",
        "(train_X, train_y), (test_X, test_y) = mnist.load_data()"
      ]
    },
    {
      "cell_type": "code",
      "execution_count": null,
      "id": "c2371469-2aee-40fe-b418-1c103293dedc",
      "metadata": {
        "id": "c2371469-2aee-40fe-b418-1c103293dedc"
      },
      "outputs": [],
      "source": [
        "train_X = train_X.reshape(-1, 28, 28, 1) / 255.0\n",
        "test_X = test_X.reshape(-1, 28, 28, 1) / 255.0"
      ]
    },
    {
      "cell_type": "code",
      "execution_count": null,
      "id": "41373308-6f64-459f-9dae-91d67b365ee2",
      "metadata": {
        "id": "41373308-6f64-459f-9dae-91d67b365ee2",
        "outputId": "4bf2f862-b822-45a7-b8b3-68903b336f19"
      },
      "outputs": [
        {
          "name": "stdout",
          "output_type": "stream",
          "text": [
            "Epoch 1/20\n",
            "300/300 [==============================] - 4s 13ms/step - loss: 2.1684 - accuracy: 0.3333\n",
            "Epoch 2/20\n",
            "300/300 [==============================] - 4s 13ms/step - loss: 0.7521 - accuracy: 0.7922\n",
            "Epoch 3/20\n",
            "300/300 [==============================] - 4s 13ms/step - loss: 0.4227 - accuracy: 0.8732\n",
            "Epoch 4/20\n",
            "300/300 [==============================] - 4s 13ms/step - loss: 0.3409 - accuracy: 0.8971\n",
            "Epoch 5/20\n",
            "300/300 [==============================] - 4s 13ms/step - loss: 0.2932 - accuracy: 0.9114\n",
            "Epoch 6/20\n",
            "300/300 [==============================] - 4s 14ms/step - loss: 0.2635 - accuracy: 0.9204\n",
            "Epoch 7/20\n",
            "300/300 [==============================] - 4s 14ms/step - loss: 0.2389 - accuracy: 0.9281\n",
            "Epoch 8/20\n",
            "300/300 [==============================] - 5s 15ms/step - loss: 0.2182 - accuracy: 0.9348\n",
            "Epoch 9/20\n",
            "300/300 [==============================] - 4s 14ms/step - loss: 0.2040 - accuracy: 0.9382\n",
            "Epoch 10/20\n",
            "300/300 [==============================] - 4s 13ms/step - loss: 0.1906 - accuracy: 0.9417\n",
            "Epoch 11/20\n",
            "300/300 [==============================] - 4s 13ms/step - loss: 0.1785 - accuracy: 0.9456\n",
            "Epoch 12/20\n",
            "300/300 [==============================] - 4s 14ms/step - loss: 0.1697 - accuracy: 0.9486\n",
            "Epoch 13/20\n",
            "300/300 [==============================] - 4s 14ms/step - loss: 0.1598 - accuracy: 0.9520\n",
            "Epoch 14/20\n",
            "300/300 [==============================] - 4s 14ms/step - loss: 0.1530 - accuracy: 0.9540\n",
            "Epoch 15/20\n",
            "300/300 [==============================] - 4s 13ms/step - loss: 0.1447 - accuracy: 0.9562\n",
            "Epoch 16/20\n",
            "300/300 [==============================] - 4s 13ms/step - loss: 0.1390 - accuracy: 0.9583\n",
            "Epoch 17/20\n",
            "300/300 [==============================] - 4s 13ms/step - loss: 0.1327 - accuracy: 0.9602\n",
            "Epoch 18/20\n",
            "300/300 [==============================] - 4s 14ms/step - loss: 0.1287 - accuracy: 0.9608\n",
            "Epoch 19/20\n",
            "300/300 [==============================] - 4s 13ms/step - loss: 0.1233 - accuracy: 0.9618\n",
            "Epoch 20/20\n",
            "300/300 [==============================] - 4s 13ms/step - loss: 0.1193 - accuracy: 0.9638\n"
          ]
        },
        {
          "data": {
            "text/plain": [
              "<keras.src.callbacks.History at 0x1767cc39690>"
            ]
          },
          "execution_count": 6,
          "metadata": {},
          "output_type": "execute_result"
        }
      ],
      "source": [
        "model.fit(train_X, train_y, batch_size=200, epochs=20)"
      ]
    },
    {
      "cell_type": "code",
      "execution_count": null,
      "id": "c085f043-6c36-491e-b128-be125dd605bb",
      "metadata": {
        "id": "c085f043-6c36-491e-b128-be125dd605bb",
        "outputId": "d3625209-20d3-45d9-80c9-b8dc4f91ec22"
      },
      "outputs": [
        {
          "name": "stdout",
          "output_type": "stream",
          "text": [
            "313/313 [==============================] - 1s 2ms/step - loss: 0.1106 - accuracy: 0.9660\n",
            "정확도 : 96.60%\n"
          ]
        }
      ],
      "source": [
        "loss, accuracy = model.evaluate(test_X, test_y)\n",
        "print(f'정확도 : {accuracy*100:.2f}%')"
      ]
    },
    {
      "cell_type": "code",
      "execution_count": null,
      "id": "6bd0cebe-5598-4f65-bac5-a073edeaf411",
      "metadata": {
        "id": "6bd0cebe-5598-4f65-bac5-a073edeaf411"
      },
      "outputs": [],
      "source": [
        "model.save('mnist-lenet.keras')"
      ]
    },
    {
      "cell_type": "code",
      "execution_count": null,
      "id": "bf029849-f3d7-4df4-a96d-2f18e9adb344",
      "metadata": {
        "id": "bf029849-f3d7-4df4-a96d-2f18e9adb344",
        "outputId": "a57dd031-0c86-445d-c80a-d85414fc5078"
      },
      "outputs": [
        {
          "name": "stdout",
          "output_type": "stream",
          "text": [
            "1/1 [==============================] - 0s 15ms/step\n",
            "Predicted : 2, Actual : 2\n",
            "1/1 [==============================] - 0s 9ms/step\n",
            "Predicted : 7, Actual : 7\n",
            "1/1 [==============================] - 0s 16ms/step\n",
            "Predicted : 4, Actual : 4\n",
            "1/1 [==============================] - 0s 16ms/step\n",
            "Predicted : 7, Actual : 7\n",
            "1/1 [==============================] - 0s 16ms/step\n",
            "Predicted : 7, Actual : 7\n",
            "1/1 [==============================] - 0s 16ms/step\n",
            "Predicted : 5, Actual : 5\n",
            "1/1 [==============================] - 0s 16ms/step\n",
            "Predicted : 2, Actual : 2\n",
            "1/1 [==============================] - 0s 16ms/step\n",
            "Predicted : 3, Actual : 3\n",
            "1/1 [==============================] - 0s 16ms/step\n",
            "Predicted : 3, Actual : 3\n",
            "1/1 [==============================] - 0s 16ms/step\n",
            "Predicted : 2, Actual : 2\n"
          ]
        }
      ],
      "source": [
        "import numpy as np\n",
        "import cv2\n",
        "\n",
        "samples = np.random.choice(np.arange(0, len(test_y)), size=(10,))\n",
        "for i in samples :\n",
        "    probs = model.predict(test_X[np.newaxis, i])\n",
        "    prediction = probs.argmax(axis=1)\n",
        "\n",
        "    image = (test_X[i] * 255).astype('uint8')\n",
        "    image = cv2.cvtColor(image, cv2.COLOR_GRAY2BGR)\n",
        "    image = cv2.resize(image, (96, 96), interpolation=cv2.INTER_LINEAR)\n",
        "\n",
        "    cv2.putText(image, str(prediction[0]), (5, 20), cv2.FONT_HERSHEY_SIMPLEX, 0.75, (0, 255, 0), 2)\n",
        "    print(\"Predicted : {}, Actual : {}\".format(prediction[0], test_y[i]))\n",
        "    cv2.imshow('Digit', image)\n",
        "    cv2.waitKey(0)\n",
        "    cv2.destroyAllWindows()"
      ]
    }
  ],
  "metadata": {
    "kernelspec": {
      "display_name": "tf2.14",
      "language": "python",
      "name": "tf2.14"
    },
    "language_info": {
      "codemirror_mode": {
        "name": "ipython",
        "version": 3
      },
      "file_extension": ".py",
      "mimetype": "text/x-python",
      "name": "python",
      "nbconvert_exporter": "python",
      "pygments_lexer": "ipython3",
      "version": "3.11.9"
    },
    "colab": {
      "provenance": []
    }
  },
  "nbformat": 4,
  "nbformat_minor": 5
}