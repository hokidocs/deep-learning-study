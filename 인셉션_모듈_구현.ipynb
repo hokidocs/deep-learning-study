{
  "cells": [
    {
      "cell_type": "markdown",
      "id": "ae5ad321-04b9-4d4b-9931-e56ff6f7b8d8",
      "metadata": {
        "id": "ae5ad321-04b9-4d4b-9931-e56ff6f7b8d8"
      },
      "source": [
        "### **Inception 모듈, naive version**"
      ]
    },
    {
      "cell_type": "code",
      "execution_count": null,
      "id": "2f568e2c-cd8b-40c1-9537-85d08f177d3e",
      "metadata": {
        "id": "2f568e2c-cd8b-40c1-9537-85d08f177d3e",
        "outputId": "f8246c94-787f-4ad4-fbb9-03e04e68bc92"
      },
      "outputs": [
        {
          "name": "stdout",
          "output_type": "stream",
          "text": [
            "Model: \"model_1\"\n",
            "__________________________________________________________________________________________________\n",
            " Layer (type)                Output Shape                 Param #   Connected to                  \n",
            "==================================================================================================\n",
            " input_3 (InputLayer)        [(None, 28, 28, 3)]          0         []                            \n",
            "                                                                                                  \n",
            " dense_2 (Dense)             (None, 28, 28, 192)          768       ['input_3[0][0]']             \n",
            "                                                                                                  \n",
            " conv2d_6 (Conv2D)           (None, 28, 28, 64)           12352     ['dense_2[0][0]']             \n",
            "                                                                                                  \n",
            " conv2d_7 (Conv2D)           (None, 28, 28, 128)          221312    ['dense_2[0][0]']             \n",
            "                                                                                                  \n",
            " conv2d_8 (Conv2D)           (None, 28, 28, 32)           153632    ['dense_2[0][0]']             \n",
            "                                                                                                  \n",
            " max_pooling2d_2 (MaxPoolin  (None, 28, 28, 192)          0         ['dense_2[0][0]']             \n",
            " g2D)                                                                                             \n",
            "                                                                                                  \n",
            " concatenate_1 (Concatenate  (None, 28, 28, 416)          0         ['conv2d_6[0][0]',            \n",
            " )                                                                   'conv2d_7[0][0]',            \n",
            "                                                                     'conv2d_8[0][0]',            \n",
            "                                                                     'max_pooling2d_2[0][0]']     \n",
            "                                                                                                  \n",
            "==================================================================================================\n",
            "Total params: 388064 (1.48 MB)\n",
            "Trainable params: 388064 (1.48 MB)\n",
            "Non-trainable params: 0 (0.00 Byte)\n",
            "__________________________________________________________________________________________________\n"
          ]
        }
      ],
      "source": [
        "# 필요한 라이브러리 임포트\n",
        "from tensorflow.keras.models import Model\n",
        "from tensorflow.keras.layers import Input, Dense, Conv2D, MaxPooling2D, concatenate\n",
        "\n",
        "# 입력 데이터 형태 정의 (28x28 RGB 이미지)\n",
        "model_input = Input(shape=(28, 28, 3))\n",
        "\n",
        "# 완전연결층을 통해 192차원 특징 벡터로 변환\n",
        "pre = Dense(192)(model_input)\n",
        "\n",
        "# 다양한 커널 크기(1x1, 3x3, 5x5)의 합성곱 연산 수행\n",
        "conv1 = Conv2D(64, 1, padding='same')(pre)\n",
        "conv2 = Conv2D(128, 3, padding='same')(pre)\n",
        "conv3 = Conv2D(32, 5, padding='same')(pre)\n",
        "\n",
        "# 3x3 최대 풀링 연산으로 공간 정보 압축\n",
        "pool = MaxPooling2D(pool_size=(3,3), strides=1, padding='same')(pre)\n",
        "\n",
        "# 추출한 특징맵들 결합\n",
        "model_output = concatenate([conv1, conv2, conv3, pool])\n",
        "\n",
        "# 모델 정의 및 구조 출력\n",
        "model = Model(inputs=model_input, outputs=model_output)\n",
        "model.summary()\n",
        "\n",
        "# 인셉션 모듈 아이디어 반영\n",
        "# 다양한 커널 크기의 합성곱 연산을 병렬로 수행하여 다양한 특징 추출\n",
        "# 추출한 특징맵들을 결합하여 모델의 표현력 향상"
      ]
    },
    {
      "cell_type": "markdown",
      "id": "c2fcbc1b-16a8-43ee-bc03-65ccf61a9016",
      "metadata": {
        "id": "c2fcbc1b-16a8-43ee-bc03-65ccf61a9016"
      },
      "source": [
        "### **Inception 모듈, Bottle Neck 구조**"
      ]
    },
    {
      "cell_type": "code",
      "execution_count": null,
      "id": "b0be849c-714b-4855-8fce-962b80349338",
      "metadata": {
        "id": "b0be849c-714b-4855-8fce-962b80349338",
        "outputId": "67777969-809f-446a-abcd-e0c0ef447f3c"
      },
      "outputs": [
        {
          "name": "stdout",
          "output_type": "stream",
          "text": [
            "Model: \"model_4\"\n",
            "__________________________________________________________________________________________________\n",
            " Layer (type)                Output Shape                 Param #   Connected to                  \n",
            "==================================================================================================\n",
            " input_7 (InputLayer)        [(None, 28, 28, 3)]          0         []                            \n",
            "                                                                                                  \n",
            " dense_6 (Dense)             (None, 28, 28, 192)          768       ['input_7[0][0]']             \n",
            "                                                                                                  \n",
            " conv2d_27 (Conv2D)          (None, 28, 28, 96)           18528     ['dense_6[0][0]']             \n",
            "                                                                                                  \n",
            " conv2d_29 (Conv2D)          (None, 28, 28, 16)           3088      ['dense_6[0][0]']             \n",
            "                                                                                                  \n",
            " max_pooling2d_6 (MaxPoolin  (None, 28, 28, 192)          0         ['dense_6[0][0]']             \n",
            " g2D)                                                                                             \n",
            "                                                                                                  \n",
            " conv2d_26 (Conv2D)          (None, 28, 28, 64)           12352     ['dense_6[0][0]']             \n",
            "                                                                                                  \n",
            " conv2d_28 (Conv2D)          (None, 28, 28, 128)          110720    ['conv2d_27[0][0]']           \n",
            "                                                                                                  \n",
            " conv2d_30 (Conv2D)          (None, 28, 28, 32)           12832     ['conv2d_29[0][0]']           \n",
            "                                                                                                  \n",
            " conv2d_31 (Conv2D)          (None, 28, 28, 32)           6176      ['max_pooling2d_6[0][0]']     \n",
            "                                                                                                  \n",
            " concatenate_4 (Concatenate  (None, 28, 28, 256)          0         ['conv2d_26[0][0]',           \n",
            " )                                                                   'conv2d_28[0][0]',           \n",
            "                                                                     'conv2d_30[0][0]',           \n",
            "                                                                     'conv2d_31[0][0]']           \n",
            "                                                                                                  \n",
            "==================================================================================================\n",
            "Total params: 164464 (642.44 KB)\n",
            "Trainable params: 164464 (642.44 KB)\n",
            "Non-trainable params: 0 (0.00 Byte)\n",
            "__________________________________________________________________________________________________\n"
          ]
        }
      ],
      "source": [
        "# 필요한 라이브러리 임포트\n",
        "from tensorflow.keras.models import Model\n",
        "from tensorflow.keras.layers import Input, Dense, Conv2D, MaxPooling2D, concatenate\n",
        "\n",
        "# 입력 데이터 형태 정의 (28x28 RGB 이미지)\n",
        "model_input = Input(shape=(28, 28, 3))\n",
        "\n",
        "# 완전연결층을 통해 192차원 특징 벡터로 변환\n",
        "pre = Dense(192)(model_input)\n",
        "\n",
        "# 1x1 커널 사이즈의 합성곱 연산\n",
        "conv1 = Conv2D(64, 1, padding='same')(pre)\n",
        "\n",
        "# 1x1 커널로 차원 축소 후 3x3 커널 합성곱 연산\n",
        "conv2_1 = Conv2D(96, 1, padding='same')(pre)\n",
        "conv2 = Conv2D(128, 3, padding='same')(conv2_1)\n",
        "\n",
        "# 1x1 커널로 차원 축소 후 5x5 커널 합성곱 연산\n",
        "conv3_1 = Conv2D(16, 1, padding='same')(pre)\n",
        "conv3 = Conv2D(32, 5, padding='same')(conv3_1)\n",
        "\n",
        "# 3x3 최대 풀링 연산 후 1x1 합성곱 연산\n",
        "pool = MaxPooling2D(pool_size=(3,3), strides=1, padding='same')(pre)\n",
        "conv4 = Conv2D(32, 1, padding='same')(pool)\n",
        "\n",
        "# 추출한 특징맵들 결합\n",
        "model_output = concatenate([conv1, conv2, conv3, conv4])\n",
        "\n",
        "# 모델 정의 및 구조 출력\n",
        "model = Model(inputs=model_input, outputs=model_output)\n",
        "model.summary()\n"
      ]
    }
  ],
  "metadata": {
    "kernelspec": {
      "display_name": "tf2.14",
      "language": "python",
      "name": "tf2.14"
    },
    "language_info": {
      "codemirror_mode": {
        "name": "ipython",
        "version": 3
      },
      "file_extension": ".py",
      "mimetype": "text/x-python",
      "name": "python",
      "nbconvert_exporter": "python",
      "pygments_lexer": "ipython3",
      "version": "3.11.9"
    },
    "colab": {
      "provenance": []
    }
  },
  "nbformat": 4,
  "nbformat_minor": 5
}